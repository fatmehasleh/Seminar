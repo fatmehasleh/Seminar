{
 "cells": [
  {
   "cell_type": "code",
   "execution_count": 1,
   "id": "fdc2dd33",
   "metadata": {},
   "outputs": [],
   "source": [
    "# read the csv file\n",
    "import pandas as pd\n",
    "import numpy as np\n",
    "df = pd.read_csv(\"objective_issues.csv\")\n",
    "df = df.replace('nan', np.nan)\n",
    "df = df.dropna()"
   ]
  },
  {
   "cell_type": "code",
   "execution_count": null,
   "id": "c6df1036",
   "metadata": {},
   "outputs": [],
   "source": [
    "%timeit\n",
    "counts = df['repository_url'].value_counts().to_dict()\n",
    "sorted_repo_urls = list(counts.keys())\n",
    "sorted_repo_urls = sorted_repo_urls[0:100]\n",
    "df_top100 = df[0:0]\n",
    "for row in df.iterrows():\n",
    "    if(row[1]['repository_url'] in sorted_repo_urls):\n",
    "        df_top1000.loc[len(df_top1000.index)] = row[1]\n"
   ]
  },
  {
   "cell_type": "code",
   "execution_count": null,
   "id": "b30ac7a4",
   "metadata": {},
   "outputs": [],
   "source": [
    "filepath = Path('new_dataset.csv')  \n",
    "filepath.parent.mkdir(parents=True, exist_ok=True)  \n",
    "df_top100.to_csv(filepath)  "
   ]
  },
  {
   "cell_type": "code",
   "execution_count": 1,
   "id": "190dc953",
   "metadata": {},
   "outputs": [],
   "source": [
    "# read the csv file\n",
    "import pandas as pd\n",
    "import numpy as np\n",
    "df = pd.read_csv(\"new_dataset.csv\", encoding = \"ISO-8859-1\")\n",
    "df = df.replace('nan', np.nan)\n",
    "df = df.dropna()"
   ]
  },
  {
   "cell_type": "code",
   "execution_count": 2,
   "id": "fc36a63c",
   "metadata": {
    "scrolled": true
   },
   "outputs": [
    {
     "data": {
      "text/html": [
       "<div>\n",
       "<style scoped>\n",
       "    .dataframe tbody tr th:only-of-type {\n",
       "        vertical-align: middle;\n",
       "    }\n",
       "\n",
       "    .dataframe tbody tr th {\n",
       "        vertical-align: top;\n",
       "    }\n",
       "\n",
       "    .dataframe thead th {\n",
       "        text-align: right;\n",
       "    }\n",
       "</style>\n",
       "<table border=\"1\" class=\"dataframe\">\n",
       "  <thead>\n",
       "    <tr style=\"text-align: right;\">\n",
       "      <th></th>\n",
       "      <th>repository_url</th>\n",
       "      <th>issue_number</th>\n",
       "      <th>title_processed</th>\n",
       "      <th>body_processed</th>\n",
       "      <th>label</th>\n",
       "      <th>label_cat</th>\n",
       "      <th>test_tag</th>\n",
       "      <th>info</th>\n",
       "      <th>state</th>\n",
       "      <th>created_at</th>\n",
       "      <th>closed_at</th>\n",
       "    </tr>\n",
       "  </thead>\n",
       "  <tbody>\n",
       "    <tr>\n",
       "      <th>12462</th>\n",
       "      <td>https://api.github.com/repos/dita-ot/dita-ot</td>\n",
       "      <td>1976.0</td>\n",
       "      <td>added extension points corresponding template ...</td>\n",
       "      <td>preprocess i digitreplaced  postprocess</td>\n",
       "      <td>feature</td>\n",
       "      <td>feature</td>\n",
       "      <td>0.0</td>\n",
       "      <td>{'state': 'closed', 'created_at': '2015-07-20T...</td>\n",
       "      <td>closed</td>\n",
       "      <td>2015-07-20T19:48:21Z</td>\n",
       "      <td>2015-07-20T20:17:59Z</td>\n",
       "    </tr>\n",
       "    <tr>\n",
       "      <th>12463</th>\n",
       "      <td>https://api.github.com/repos/vaadin/framework</td>\n",
       "      <td>4929.0</td>\n",
       "      <td>changing visibility components grid layout ins...</td>\n",
       "      <td>originally tsvk encountered weird behavior vaa...</td>\n",
       "      <td>bug</td>\n",
       "      <td>bug</td>\n",
       "      <td>0.0</td>\n",
       "      <td>{'state': 'closed', 'created_at': '2014-02-22T...</td>\n",
       "      <td>closed</td>\n",
       "      <td>2014-02-22T19:59:02Z</td>\n",
       "      <td>2014-04-29T12:13:05Z</td>\n",
       "    </tr>\n",
       "    <tr>\n",
       "      <th>12464</th>\n",
       "      <td>https://api.github.com/repos/square/okhttp</td>\n",
       "      <td>2127.0</td>\n",
       "      <td>leaked connection warning actionable</td>\n",
       "      <td>print warning multiple times include stacktrace</td>\n",
       "      <td>enhancement</td>\n",
       "      <td>feature</td>\n",
       "      <td>0.0</td>\n",
       "      <td>{'state': 'closed', 'created_at': '2015-12-17T...</td>\n",
       "      <td>closed</td>\n",
       "      <td>2015-12-17T22:01:48Z</td>\n",
       "      <td>2016-12-11T17:09:08Z</td>\n",
       "    </tr>\n",
       "    <tr>\n",
       "      <th>12465</th>\n",
       "      <td>https://api.github.com/repos/vaadin/framework</td>\n",
       "      <td>4909.0</td>\n",
       "      <td>pathreplaced browser zoom results aborting lay...</td>\n",
       "      <td>originally mvolery attached find demo applicat...</td>\n",
       "      <td>bug</td>\n",
       "      <td>bug</td>\n",
       "      <td>0.0</td>\n",
       "      <td>{'state': 'closed', 'created_at': '2014-02-19T...</td>\n",
       "      <td>closed</td>\n",
       "      <td>2014-02-19T13:42:07Z</td>\n",
       "      <td>2015-06-25T06:55:02Z</td>\n",
       "    </tr>\n",
       "    <tr>\n",
       "      <th>12466</th>\n",
       "      <td>https://api.github.com/repos/orientechnologies...</td>\n",
       "      <td>6763.0</td>\n",
       "      <td>temporary vertices persisted graph saving</td>\n",
       "      <td>orient database version operating system hardw...</td>\n",
       "      <td>question</td>\n",
       "      <td>support</td>\n",
       "      <td>0.0</td>\n",
       "      <td>{'state': 'closed', 'created_at': '2016-09-30T...</td>\n",
       "      <td>closed</td>\n",
       "      <td>2016-09-30T14:19:17Z</td>\n",
       "      <td>2016-09-30T20:59:05Z</td>\n",
       "    </tr>\n",
       "    <tr>\n",
       "      <th>...</th>\n",
       "      <td>...</td>\n",
       "      <td>...</td>\n",
       "      <td>...</td>\n",
       "      <td>...</td>\n",
       "      <td>...</td>\n",
       "      <td>...</td>\n",
       "      <td>...</td>\n",
       "      <td>...</td>\n",
       "      <td>...</td>\n",
       "      <td>...</td>\n",
       "      <td>...</td>\n",
       "    </tr>\n",
       "    <tr>\n",
       "      <th>144617</th>\n",
       "      <td>https://api.github.com/repos/cdapio/cdap</td>\n",
       "      <td>8494.0</td>\n",
       "      <td>cda digitreplaced remove unnecessary logging t...</td>\n",
       "      <td>not running build affect logging</td>\n",
       "      <td>bug</td>\n",
       "      <td>bug</td>\n",
       "      <td>0.0</td>\n",
       "      <td>{'state': 'closed', 'created_at': '2017-04-06T...</td>\n",
       "      <td>closed</td>\n",
       "      <td>2017-04-06T01:22:55Z</td>\n",
       "      <td>2017-04-06T04:02:56Z</td>\n",
       "    </tr>\n",
       "    <tr>\n",
       "      <th>144618</th>\n",
       "      <td>https://api.github.com/repos/cdapio/cdap</td>\n",
       "      <td>9246.0</td>\n",
       "      <td>cda digitreplaced fixes pipeline metrics fetch...</td>\n",
       "      <td>fetch metrics pipeline filter node name values...</td>\n",
       "      <td>bug</td>\n",
       "      <td>bug</td>\n",
       "      <td>0.0</td>\n",
       "      <td>{'state': 'closed', 'created_at': '2017-07-14T...</td>\n",
       "      <td>closed</td>\n",
       "      <td>2017-07-14T01:34:11Z</td>\n",
       "      <td>2017-07-15T00:03:54Z</td>\n",
       "    </tr>\n",
       "    <tr>\n",
       "      <th>144619</th>\n",
       "      <td>https://api.github.com/repos/MinecraftForge/Mi...</td>\n",
       "      <td>2155.0</td>\n",
       "      <td>fix silk harvest blockstate air tested</td>\n",
       "      <td>testing block state block silk harvest functio...</td>\n",
       "      <td>bug</td>\n",
       "      <td>bug</td>\n",
       "      <td>0.0</td>\n",
       "      <td>{'state': 'closed', 'created_at': '2015-10-29T...</td>\n",
       "      <td>closed</td>\n",
       "      <td>2015-10-29T15:08:50Z</td>\n",
       "      <td>2016-05-29T03:54:56Z</td>\n",
       "    </tr>\n",
       "    <tr>\n",
       "      <th>144620</th>\n",
       "      <td>https://api.github.com/repos/M66B/XPrivacy</td>\n",
       "      <td>1374.0</td>\n",
       "      <td>google play breaks com google android provider...</td>\n",
       "      <td>platform android digitreplaced digitreplaced s...</td>\n",
       "      <td>question</td>\n",
       "      <td>support</td>\n",
       "      <td>0.0</td>\n",
       "      <td>{'state': 'closed', 'created_at': '2014-02-17T...</td>\n",
       "      <td>closed</td>\n",
       "      <td>2014-02-17T18:33:50Z</td>\n",
       "      <td>2014-02-17T20:33:44Z</td>\n",
       "    </tr>\n",
       "    <tr>\n",
       "      <th>144621</th>\n",
       "      <td>https://api.github.com/repos/runelite/runelite</td>\n",
       "      <td>865.0</td>\n",
       "      <td>inverse window resize condition</td>\n",
       "      <td>change resizable lock window size update descr...</td>\n",
       "      <td>enhancement</td>\n",
       "      <td>feature</td>\n",
       "      <td>0.0</td>\n",
       "      <td>{'state': 'closed', 'created_at': '2018-03-06T...</td>\n",
       "      <td>closed</td>\n",
       "      <td>2018-03-06T19:21:50Z</td>\n",
       "      <td>2018-03-07T01:12:58Z</td>\n",
       "    </tr>\n",
       "  </tbody>\n",
       "</table>\n",
       "<p>21983 rows × 11 columns</p>\n",
       "</div>"
      ],
      "text/plain": [
       "                                           repository_url  issue_number  \\\n",
       "12462        https://api.github.com/repos/dita-ot/dita-ot        1976.0   \n",
       "12463       https://api.github.com/repos/vaadin/framework        4929.0   \n",
       "12464          https://api.github.com/repos/square/okhttp        2127.0   \n",
       "12465       https://api.github.com/repos/vaadin/framework        4909.0   \n",
       "12466   https://api.github.com/repos/orientechnologies...        6763.0   \n",
       "...                                                   ...           ...   \n",
       "144617           https://api.github.com/repos/cdapio/cdap        8494.0   \n",
       "144618           https://api.github.com/repos/cdapio/cdap        9246.0   \n",
       "144619  https://api.github.com/repos/MinecraftForge/Mi...        2155.0   \n",
       "144620         https://api.github.com/repos/M66B/XPrivacy        1374.0   \n",
       "144621     https://api.github.com/repos/runelite/runelite         865.0   \n",
       "\n",
       "                                          title_processed  \\\n",
       "12462   added extension points corresponding template ...   \n",
       "12463   changing visibility components grid layout ins...   \n",
       "12464                leaked connection warning actionable   \n",
       "12465   pathreplaced browser zoom results aborting lay...   \n",
       "12466           temporary vertices persisted graph saving   \n",
       "...                                                   ...   \n",
       "144617  cda digitreplaced remove unnecessary logging t...   \n",
       "144618  cda digitreplaced fixes pipeline metrics fetch...   \n",
       "144619             fix silk harvest blockstate air tested   \n",
       "144620  google play breaks com google android provider...   \n",
       "144621                    inverse window resize condition   \n",
       "\n",
       "                                           body_processed        label  \\\n",
       "12462             preprocess i digitreplaced  postprocess      feature   \n",
       "12463   originally tsvk encountered weird behavior vaa...          bug   \n",
       "12464     print warning multiple times include stacktrace  enhancement   \n",
       "12465   originally mvolery attached find demo applicat...          bug   \n",
       "12466   orient database version operating system hardw...     question   \n",
       "...                                                   ...          ...   \n",
       "144617                   not running build affect logging          bug   \n",
       "144618  fetch metrics pipeline filter node name values...          bug   \n",
       "144619  testing block state block silk harvest functio...          bug   \n",
       "144620  platform android digitreplaced digitreplaced s...     question   \n",
       "144621  change resizable lock window size update descr...  enhancement   \n",
       "\n",
       "       label_cat  test_tag                                               info  \\\n",
       "12462    feature       0.0  {'state': 'closed', 'created_at': '2015-07-20T...   \n",
       "12463        bug       0.0  {'state': 'closed', 'created_at': '2014-02-22T...   \n",
       "12464    feature       0.0  {'state': 'closed', 'created_at': '2015-12-17T...   \n",
       "12465        bug       0.0  {'state': 'closed', 'created_at': '2014-02-19T...   \n",
       "12466    support       0.0  {'state': 'closed', 'created_at': '2016-09-30T...   \n",
       "...          ...       ...                                                ...   \n",
       "144617       bug       0.0  {'state': 'closed', 'created_at': '2017-04-06T...   \n",
       "144618       bug       0.0  {'state': 'closed', 'created_at': '2017-07-14T...   \n",
       "144619       bug       0.0  {'state': 'closed', 'created_at': '2015-10-29T...   \n",
       "144620   support       0.0  {'state': 'closed', 'created_at': '2014-02-17T...   \n",
       "144621   feature       0.0  {'state': 'closed', 'created_at': '2018-03-06T...   \n",
       "\n",
       "         state            created_at             closed_at  \n",
       "12462   closed  2015-07-20T19:48:21Z  2015-07-20T20:17:59Z  \n",
       "12463   closed  2014-02-22T19:59:02Z  2014-04-29T12:13:05Z  \n",
       "12464   closed  2015-12-17T22:01:48Z  2016-12-11T17:09:08Z  \n",
       "12465   closed  2014-02-19T13:42:07Z  2015-06-25T06:55:02Z  \n",
       "12466   closed  2016-09-30T14:19:17Z  2016-09-30T20:59:05Z  \n",
       "...        ...                   ...                   ...  \n",
       "144617  closed  2017-04-06T01:22:55Z  2017-04-06T04:02:56Z  \n",
       "144618  closed  2017-07-14T01:34:11Z  2017-07-15T00:03:54Z  \n",
       "144619  closed  2015-10-29T15:08:50Z  2016-05-29T03:54:56Z  \n",
       "144620  closed  2014-02-17T18:33:50Z  2014-02-17T20:33:44Z  \n",
       "144621  closed  2018-03-06T19:21:50Z  2018-03-07T01:12:58Z  \n",
       "\n",
       "[21983 rows x 11 columns]"
      ]
     },
     "execution_count": 2,
     "metadata": {},
     "output_type": "execute_result"
    }
   ],
   "source": [
    "df = df.iloc[: ,2: ]\n",
    "df"
   ]
  },
  {
   "cell_type": "code",
   "execution_count": 3,
   "id": "eaab051d",
   "metadata": {},
   "outputs": [],
   "source": [
    "df['title_len'] = df.apply(lambda row : len(row['title_processed'].split()), axis = 1) \n",
    "df['body_len'] = df.apply(lambda row : len(row['body_processed'].split()), axis = 1) "
   ]
  },
  {
   "cell_type": "code",
   "execution_count": 13,
   "id": "4d36d144",
   "metadata": {
    "collapsed": true
   },
   "outputs": [
    {
     "data": {
      "text/html": [
       "<div>\n",
       "<style scoped>\n",
       "    .dataframe tbody tr th:only-of-type {\n",
       "        vertical-align: middle;\n",
       "    }\n",
       "\n",
       "    .dataframe tbody tr th {\n",
       "        vertical-align: top;\n",
       "    }\n",
       "\n",
       "    .dataframe thead th {\n",
       "        text-align: right;\n",
       "    }\n",
       "</style>\n",
       "<table border=\"1\" class=\"dataframe\">\n",
       "  <thead>\n",
       "    <tr style=\"text-align: right;\">\n",
       "      <th></th>\n",
       "      <th>repository_url</th>\n",
       "      <th>issue_number</th>\n",
       "      <th>title_processed</th>\n",
       "      <th>body_processed</th>\n",
       "      <th>label</th>\n",
       "      <th>label_cat</th>\n",
       "      <th>test_tag</th>\n",
       "      <th>info</th>\n",
       "      <th>state</th>\n",
       "      <th>created_at</th>\n",
       "      <th>closed_at</th>\n",
       "      <th>title_len</th>\n",
       "      <th>body_len</th>\n",
       "    </tr>\n",
       "  </thead>\n",
       "  <tbody>\n",
       "    <tr>\n",
       "      <th>12462</th>\n",
       "      <td>https://api.github.com/repos/dita-ot/dita-ot</td>\n",
       "      <td>1976.0</td>\n",
       "      <td>added extension points corresponding template ...</td>\n",
       "      <td>preprocess i digitreplaced  postprocess</td>\n",
       "      <td>feature</td>\n",
       "      <td>feature</td>\n",
       "      <td>0.0</td>\n",
       "      <td>{'state': 'closed', 'created_at': '2015-07-20T...</td>\n",
       "      <td>closed</td>\n",
       "      <td>2015-07-20T19:48:21Z</td>\n",
       "      <td>2015-07-20T20:17:59Z</td>\n",
       "      <td>7</td>\n",
       "      <td>4</td>\n",
       "    </tr>\n",
       "    <tr>\n",
       "      <th>12463</th>\n",
       "      <td>https://api.github.com/repos/vaadin/framework</td>\n",
       "      <td>4929.0</td>\n",
       "      <td>changing visibility components grid layout ins...</td>\n",
       "      <td>originally tsvk encountered weird behavior vaa...</td>\n",
       "      <td>bug</td>\n",
       "      <td>bug</td>\n",
       "      <td>0.0</td>\n",
       "      <td>{'state': 'closed', 'created_at': '2014-02-22T...</td>\n",
       "      <td>closed</td>\n",
       "      <td>2014-02-22T19:59:02Z</td>\n",
       "      <td>2014-04-29T12:13:05Z</td>\n",
       "      <td>13</td>\n",
       "      <td>218</td>\n",
       "    </tr>\n",
       "  </tbody>\n",
       "</table>\n",
       "</div>"
      ],
      "text/plain": [
       "                                      repository_url  issue_number  \\\n",
       "12462   https://api.github.com/repos/dita-ot/dita-ot        1976.0   \n",
       "12463  https://api.github.com/repos/vaadin/framework        4929.0   \n",
       "\n",
       "                                         title_processed  \\\n",
       "12462  added extension points corresponding template ...   \n",
       "12463  changing visibility components grid layout ins...   \n",
       "\n",
       "                                          body_processed    label label_cat  \\\n",
       "12462            preprocess i digitreplaced  postprocess  feature   feature   \n",
       "12463  originally tsvk encountered weird behavior vaa...      bug       bug   \n",
       "\n",
       "       test_tag                                               info   state  \\\n",
       "12462       0.0  {'state': 'closed', 'created_at': '2015-07-20T...  closed   \n",
       "12463       0.0  {'state': 'closed', 'created_at': '2014-02-22T...  closed   \n",
       "\n",
       "                 created_at             closed_at  title_len  body_len  \n",
       "12462  2015-07-20T19:48:21Z  2015-07-20T20:17:59Z          7         4  \n",
       "12463  2014-02-22T19:59:02Z  2014-04-29T12:13:05Z         13       218  "
      ]
     },
     "execution_count": 13,
     "metadata": {},
     "output_type": "execute_result"
    }
   ],
   "source": [
    "df.head(2)"
   ]
  },
  {
   "cell_type": "code",
   "execution_count": 4,
   "id": "e58311c1",
   "metadata": {},
   "outputs": [
    {
     "data": {
      "text/plain": [
       "{'0 - 5': 5668, '5 - 10': 14104, '10 - 15': 1996, '15 - 20': 173, '20 +': 42}"
      ]
     },
     "execution_count": 4,
     "metadata": {},
     "output_type": "execute_result"
    }
   ],
   "source": [
    "title_len_dict= {'0 - 5': 0,'5 - 10': 0, '10 - 15': 0, '15 - 20': 0,'20 +' : 0}\n",
    "def calc_title_len_freq():\n",
    "    for row in df.iterrows():\n",
    "        if(0<=row[1]['title_len'] <5):\n",
    "            title_len_dict['0 - 5']= title_len_dict['0 - 5'] +1\n",
    "        if(5<=row[1]['title_len'] <10):\n",
    "            title_len_dict['5 - 10']= title_len_dict['5 - 10'] +1\n",
    "        if(10<=row[1]['title_len'] <15):\n",
    "            title_len_dict['10 - 15']= title_len_dict['10 - 15'] +1\n",
    "        if(15<=row[1]['title_len'] <20):\n",
    "            title_len_dict['15 - 20']= title_len_dict['15 - 20'] +1\n",
    "        if(row[1]['title_len'] >= 20):\n",
    "            title_len_dict['20 +']= title_len_dict['20 +'] +1\n",
    "\n",
    "calc_title_len_freq()\n",
    "title_len_dict"
   ]
  },
  {
   "cell_type": "code",
   "execution_count": 6,
   "id": "511e69c5",
   "metadata": {},
   "outputs": [
    {
     "data": {
      "image/png": "[encoded data removed]",
      "text/plain": [
       "<Figure size 432x288 with 1 Axes>"
      ]
     },
     "metadata": {
      "needs_background": "light"
     },
     "output_type": "display_data"
    }
   ],
   "source": [
    "import matplotlib.pyplot as plt\n",
    "plt.bar(list(title_len_dict.keys()), title_len_dict.values(), color='g')\n",
    "plt.show()"
   ]
  },
  {
   "cell_type": "code",
   "execution_count": 18,
   "id": "ad169fc2",
   "metadata": {},
   "outputs": [
    {
     "data": {
      "text/plain": [
       "{'0 - 15': 5811,\n",
       " '15 - 30': 5427,\n",
       " '30 - 45': 3368,\n",
       " '45 - 60': 2173,\n",
       " '60 - 75': 1405,\n",
       " '75 - 90': 930,\n",
       " '90 +': 2869}"
      ]
     },
     "execution_count": 18,
     "metadata": {},
     "output_type": "execute_result"
    }
   ],
   "source": [
    "body_len_dict= {'0 - 15': 0,'15 - 30': 0, '30 - 45': 0, '45 - 60': 0,'60 - 75' : 0, '75 - 90':0, '90 +':0}\n",
    "def calc_body_len_freq():\n",
    "    for row in df.iterrows():\n",
    "        if(0<=row[1]['body_len'] <15):\n",
    "            body_len_dict['0 - 15']= body_len_dict['0 - 15'] +1\n",
    "        if(15<=row[1]['body_len'] <30):\n",
    "            body_len_dict['15 - 30']= body_len_dict['15 - 30'] +1\n",
    "        if(30<=row[1]['body_len'] <45):\n",
    "            body_len_dict['30 - 45']= body_len_dict['30 - 45'] +1\n",
    "        if(45<=row[1]['body_len'] <60):\n",
    "            body_len_dict['45 - 60']= body_len_dict['45 - 60'] +1\n",
    "        if(60<=row[1]['body_len'] <75):\n",
    "            body_len_dict['60 - 75']= body_len_dict['60 - 75'] +1\n",
    "        if(75<=row[1]['body_len'] <90):\n",
    "            body_len_dict['75 - 90']= body_len_dict['75 - 90'] +1\n",
    "        if(row[1]['body_len'] >= 90):\n",
    "            body_len_dict['90 +']= body_len_dict['90 +'] +1\n",
    "\n",
    "calc_body_len_freq()\n",
    "body_len_dict"
   ]
  },
  {
   "cell_type": "code",
   "execution_count": 38,
   "id": "26975c54",
   "metadata": {},
   "outputs": [
    {
     "data": {
      "image/png": "[encoded data removed]",
      "text/plain": [
       "<Figure size 432x288 with 1 Axes>"
      ]
     },
     "metadata": {
      "needs_background": "light"
     },
     "output_type": "display_data"
    }
   ],
   "source": [
    "plt.bar(list(body_len_dict.keys()), body_len_dict.values(), color='g')\n",
    "plt.show()"
   ]
  },
  {
   "cell_type": "code",
   "execution_count": 20,
   "id": "446be564",
   "metadata": {},
   "outputs": [
    {
     "data": {
      "text/plain": [
       "{'feature': 6222, 'bug': 11377, 'support': 4384}"
      ]
     },
     "execution_count": 20,
     "metadata": {},
     "output_type": "execute_result"
    }
   ],
   "source": [
    "labels_freq_dict={}\n",
    "unique_labels= df['label_cat'].unique()\n",
    "group1= df.groupby(\"label_cat\")\n",
    "for label in unique_labels:\n",
    "    label_group= group1.get_group(label)\n",
    "    labels_freq_dict.update({label: len(label_group)})\n",
    "labels_freq_dict"
   ]
  },
  {
   "cell_type": "code",
   "execution_count": 23,
   "id": "7ac04686",
   "metadata": {},
   "outputs": [
    {
     "data": {
      "image/png": "[encoded data removed]",
      "text/plain": [
       "<Figure size 432x288 with 1 Axes>"
      ]
     },
     "metadata": {
      "needs_background": "light"
     },
     "output_type": "display_data"
    }
   ],
   "source": [
    "plt.bar(list(labels_freq_dict.keys()), labels_freq_dict.values(), color='g')\n",
    "plt.show()"
   ]
  },
  {
   "cell_type": "code",
   "execution_count": 7,
   "id": "68866864",
   "metadata": {
    "scrolled": true
   },
   "outputs": [
    {
     "data": {
      "image/png": "[encoded data removed]",
      "text/plain": [
       "<Figure size 432x288 with 1 Axes>"
      ]
     },
     "metadata": {
      "needs_background": "light"
     },
     "output_type": "display_data"
    }
   ],
   "source": [
    "from nltk import FreqDist\n",
    "import re\n",
    "group1= df.groupby(\"label_cat\")\n",
    "bugs= group1.get_group(\"bug\")\n",
    "most_common_bugs= FreqDist(\" \".join(bugs[\"title_processed\"]).split()).most_common(100)\n",
    "most_common_10_bugs=[w for w in most_common_bugs if w[0] not in re.findall(r'[\\w]+replaced', w[0])][:10]\n",
    "most_common_dic_bugs={}\n",
    "for tup in most_common_10_bugs:\n",
    "    most_common_dic_bugs.update({tup[0]:tup[1]})\n",
    "plt.bar(list(most_common_dic_bugs.keys()), most_common_dic_bugs.values(), color='g')\n",
    "plt.show()"
   ]
  },
  {
   "cell_type": "code",
   "execution_count": 9,
   "id": "cf088529",
   "metadata": {},
   "outputs": [
    {
     "data": {
      "image/png": "[encoded data removed]",
      "text/plain": [
       "<Figure size 432x288 with 1 Axes>"
      ]
     },
     "metadata": {
      "needs_background": "light"
     },
     "output_type": "display_data"
    }
   ],
   "source": [
    "from nltk import FreqDist\n",
    "import re\n",
    "features= group1.get_group(\"feature\")\n",
    "most_common_features= FreqDist(\" \".join(features[\"title_processed\"]).split()).most_common(100)\n",
    "most_common_10_features=[w for w in most_common_features if w[0] not in re.findall(r'[\\w]+replaced', w[0])][:10]\n",
    "most_common_dic_features={}\n",
    "for tup in most_common_10_features:\n",
    "    most_common_dic_features.update({tup[0]:tup[1]})\n",
    "plt.bar(list(most_common_dic_features.keys()), most_common_dic_features.values(), color='g')\n",
    "plt.show()"
   ]
  },
  {
   "cell_type": "code",
   "execution_count": 59,
   "id": "8996f040",
   "metadata": {
    "scrolled": true
   },
   "outputs": [
    {
     "data": {
      "image/png": "[encoded data removed]",
      "text/plain": [
       "<Figure size 432x288 with 1 Axes>"
      ]
     },
     "metadata": {
      "needs_background": "light"
     },
     "output_type": "display_data"
    }
   ],
   "source": [
    "from nltk import FreqDist\n",
    "import re\n",
    "group1= df.groupby(\"label_cat\")\n",
    "supports= group1.get_group(\"support\")\n",
    "most_common_supports= FreqDist(\" \".join(supports[\"title_processed\"]).split()).most_common(100)\n",
    "most_common_10_supports=[w for w in most_common_supports if w[0] not in re.findall(r'[\\w]+replaced', w[0])][:10]\n",
    "most_common_dic_supports={}\n",
    "for tup in most_common_10_supports:\n",
    "    most_common_dic_supports.update({tup[0]:tup[1]})\n",
    "plt.bar(list(most_common_dic_supports.keys()), most_common_dic_supports.values(), color='g')\n",
    "plt.show()"
   ]
  },
  {
   "cell_type": "code",
   "execution_count": 90,
   "id": "f1cd66b3",
   "metadata": {
    "scrolled": true
   },
   "outputs": [],
   "source": [
    "from datetime import datetime, timedelta\n",
    "from django.utils import timezone\n",
    "\n",
    "def calculate_date(d1,d2):\n",
    "    date_format1 = datetime.fromisoformat(d1[:-1]).astimezone(timezone.utc)\n",
    "    date_format2 = datetime.fromisoformat(d2[:-1]).astimezone(timezone.utc)\n",
    "    day1 = (date_format1 - timedelta(days=date_format1.weekday()))\n",
    "    day2 = (date_format2 - timedelta(days=date_format2.weekday()))\n",
    "    return round((day2 - day1).days / 7)\n",
    "\n",
    "df['time_in_weeks'] = df.apply(lambda row : calculate_date(row['created_at'],row['closed_at']), axis = 1) \n",
    "\n"
   ]
  },
  {
   "cell_type": "code",
   "execution_count": 98,
   "id": "54c17c50",
   "metadata": {},
   "outputs": [
    {
     "name": "stdout",
     "output_type": "stream",
     "text": [
      "16.323899094664675\n"
     ]
    }
   ],
   "source": [
    "from nltk import FreqDist\n",
    "import re\n",
    "group1= df.groupby(\"label_cat\")\n",
    "bugs= group1.get_group(\"bug\")\n",
    "print((sum(bugs['time_in_weeks'])/len(bugs)))\n"
   ]
  },
  {
   "cell_type": "code",
   "execution_count": 100,
   "id": "927321e3",
   "metadata": {},
   "outputs": [
    {
     "name": "stdout",
     "output_type": "stream",
     "text": [
      "23.41385406621665\n"
     ]
    }
   ],
   "source": [
    "from nltk import FreqDist\n",
    "import re\n",
    "group1= df.groupby(\"label_cat\")\n",
    "features= group1.get_group(\"feature\")\n",
    "print((sum(features['time_in_weeks'])/len(features)))\n"
   ]
  },
  {
   "cell_type": "code",
   "execution_count": 101,
   "id": "be84f692",
   "metadata": {},
   "outputs": [
    {
     "name": "stdout",
     "output_type": "stream",
     "text": [
      "10.317518248175183\n"
     ]
    }
   ],
   "source": [
    "from nltk import FreqDist\n",
    "import re\n",
    "group1= df.groupby(\"label_cat\")\n",
    "supports= group1.get_group(\"support\")\n",
    "print((sum(supports['time_in_weeks'])/len(supports)))\n"
   ]
  }
 ],
 "metadata": {
  "kernelspec": {
   "display_name": "Python 3 (ipykernel)",
   "language": "python",
   "name": "python3"
  },
  "language_info": {
   "codemirror_mode": {
    "name": "ipython",
    "version": 3
   },
   "file_extension": ".py",
   "mimetype": "text/x-python",
   "name": "python",
   "nbconvert_exporter": "python",
   "pygments_lexer": "ipython3",
   "version": "3.9.7"
  },
  "varInspector": {
   "cols": {
    "lenName": 16,
    "lenType": 16,
    "lenVar": 40
   },
   "kernels_config": {
    "python": {
     "delete_cmd_postfix": "",
     "delete_cmd_prefix": "del ",
     "library": "var_list.py",
     "varRefreshCmd": "print(var_dic_list())"
    },
    "r": {
     "delete_cmd_postfix": ") ",
     "delete_cmd_prefix": "rm(",
     "library": "var_list.r",
     "varRefreshCmd": "cat(var_dic_list()) "
    }
   },
   "types_to_exclude": [
    "module",
    "function",
    "builtin_function_or_method",
    "instance",
    "_Feature"
   ],
   "window_display": false
  }
 },
 "nbformat": 4,
 "nbformat_minor": 5
}
